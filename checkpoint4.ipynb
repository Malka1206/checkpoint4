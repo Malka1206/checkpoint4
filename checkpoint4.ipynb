{
 "cells": [
  {
   "cell_type": "code",
   "execution_count": 3,
   "id": "082918cd",
   "metadata": {},
   "outputs": [
    {
     "name": "stdout",
     "output_type": "stream",
     "text": [
      "insert a number:54\n",
      "insert a number:49\n",
      "insert a number:497\n",
      "the max of the numbers ( 54 , 49 , 497 ) is 497\n"
     ]
    }
   ],
   "source": [
    "#question1:\n",
    "def saisie():\n",
    "    s=int(input(\"insert a number:\"))\n",
    "    return s\n",
    "\n",
    "a=saisie()\n",
    "b=saisie()\n",
    "c=saisie()\n",
    "\n",
    "m=max(a,b,c)\n",
    "print(\"the max of the numbers (\",a,\",\",b,\",\",c,\") is\",m)\n"
   ]
  },
  {
   "cell_type": "code",
   "execution_count": 7,
   "id": "18731c9c",
   "metadata": {},
   "outputs": [
    {
     "name": "stdout",
     "output_type": "stream",
     "text": [
      "insert a number the first superior to the second :20\n",
      "insert a number the first superior to the second :32\n",
      "insert a number the first superior to the second :80\n",
      "insert a number the first superior to the second :545464\n",
      "insert a number the first superior to the second :80\n",
      "insert a number the first superior to the second :10\n",
      "The addition of a&b is  90\n",
      "the substraction of a from b : 70\n"
     ]
    }
   ],
   "source": [
    "#question2:\n",
    "def saisie():\n",
    "    s=int(input(\"insert a number the first superior to the second :\"))\n",
    "    \n",
    "    return s\n",
    "def subandadd(a,b):\n",
    "    sub=a-b\n",
    "    add=a+b\n",
    "    print(\"The addition of a&b is \",add)\n",
    "    print(\"the substraction of a from b :\",sub)\n",
    "\n",
    "a=saisie()\n",
    "b=saisie()\n",
    "while a<b :\n",
    "    a=saisie()\n",
    "    b=saisie()\n",
    "\n",
    "subandadd(a,b)\n"
   ]
  },
  {
   "cell_type": "code",
   "execution_count": 4,
   "id": "02c76189",
   "metadata": {},
   "outputs": [
    {
     "name": "stdout",
     "output_type": "stream",
     "text": [
      "insert the list lenght: 4\n",
      "insert an integer item your list: 4\n",
      "insert an integer item your list: 6\n",
      "insert an integer item your list: 8\n",
      "insert an integer item your list: 2\n",
      "this is your list : [4, 6, 8, 2]\n",
      "the sum of even indexed elements in your list is  12\n",
      "the multiplication of odd indexed elements in your list is 12\n"
     ]
    }
   ],
   "source": [
    "#question3:\n",
    "def saisie():\n",
    "    l=int(input(\"insert the list lenght: \"))\n",
    "    while l<=0 :\n",
    "        l=int(input(\"insert the list lenght: \"))\n",
    "    list1=[]    \n",
    "    for i in range (l):\n",
    "        \n",
    "        item=int(input(\"insert an integer item your list: \"))\n",
    "        list1.append(item)\n",
    "    print(\"this is your list :\",list1)\n",
    "    return list1\n",
    "def sumfct(listsum):\n",
    "    s=0\n",
    "    for i in listsum :\n",
    "        s=s+i\n",
    "    return s\n",
    "def multfct(listmult):\n",
    "    m=1\n",
    "    for i in listmult :\n",
    "        m=m*i\n",
    "    return m\n",
    "list1=saisie()\n",
    "def prg(listprg):\n",
    "    e=[]\n",
    "    o=[]\n",
    "    for i in range(0,len(listprg)):\n",
    "        if i%2==0:\n",
    "            e.append(listprg[i])\n",
    "        else:\n",
    "            o.append(listprg[i])\n",
    "    return e,o\n",
    "e,o=prg(list1)   \n",
    "s=sumfct(e)\n",
    "m=multfct(o)\n",
    "print(\"the sum of even indexed elements in your list is \",s,)\n",
    "print(\"the multiplication of odd indexed elements in your list is\",m)"
   ]
  },
  {
   "cell_type": "code",
   "execution_count": 18,
   "id": "f54d4321",
   "metadata": {},
   "outputs": [
    {
     "name": "stdout",
     "output_type": "stream",
     "text": [
      "insert the number of words typed:5\n",
      "insert a word: d\n",
      "insert a word: f\n",
      "insert a word: gzg\n",
      "insert a word: zg\n",
      "insert a word: zh\n",
      "this is your old characters :  d-f-gzg-zg-zh\n",
      "this is your new characters :  d-f-gzg-zg-zh\n"
     ]
    }
   ],
   "source": [
    "#question4\n",
    "def saisie():\n",
    "    s=int(input(\"insert the number of words typed:\"))\n",
    "    while s<=0 :\n",
    "        s=int(input(\"insert the number of words typed:\"))\n",
    "    wd=\"\"\n",
    "    for i in range (s):\n",
    "        if i==0 :\n",
    "            l=input(\"insert a word: \")\n",
    "            wd=wd+l\n",
    "        else:\n",
    "            l=input(\"insert a word: \")\n",
    "            wd=wd+\"-\"+l\n",
    "            \n",
    "    return wd\n",
    "\n",
    "l1=saisie()\n",
    "\n",
    "list1=[]\n",
    "list1=l1.split(\"-\")\n",
    "list1.sort()\n",
    "l2=\"\"\n",
    "for i in list1:\n",
    "    if list1[0]==i :\n",
    "        l2=l2+i\n",
    "    else :\n",
    "        l2=l2+\"-\"+i\n",
    "    \n",
    "print(\"this is your old characters : \",l1)\n",
    "print(\"this is your new characters : \",l2)\n"
   ]
  },
  {
   "cell_type": "code",
   "execution_count": 27,
   "id": "4a874fbf",
   "metadata": {},
   "outputs": [
    {
     "name": "stdout",
     "output_type": "stream",
     "text": [
      "insert positive number :100,150,180\n",
      "the value is : [18, 22, 24]\n"
     ]
    }
   ],
   "source": [
    "#question5:\n",
    "t=input(\"insert positive number :\")\n",
    "list1=t.split(\",\")\n",
    "for i in list1:\n",
    "    r=int(i)\n",
    "    while r<=0  :\n",
    "        t=int(input(\"insert positive number :\"))\n",
    "from math import sqrt\n",
    "list2=[]\n",
    "c=50\n",
    "d=30\n",
    "square=lambda h :sqrt((2*c*h)/d)\n",
    "for i in list1 :\n",
    "    l=int(i)\n",
    "    e=round(square(l))\n",
    "    list2.append(e)\n",
    "print(\"the value is :\",list2)"
   ]
  }
 ],
 "metadata": {
  "kernelspec": {
   "display_name": "Python 3",
   "language": "python",
   "name": "python3"
  },
  "language_info": {
   "codemirror_mode": {
    "name": "ipython",
    "version": 3
   },
   "file_extension": ".py",
   "mimetype": "text/x-python",
   "name": "python",
   "nbconvert_exporter": "python",
   "pygments_lexer": "ipython3",
   "version": "3.8.8"
  }
 },
 "nbformat": 4,
 "nbformat_minor": 5
}
